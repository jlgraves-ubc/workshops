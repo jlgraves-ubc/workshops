{
 "cells": [
  {
   "cell_type": "code",
   "execution_count": null,
   "id": "fe6e4f34-5912-4081-9c68-d9bccdbc8444",
   "metadata": {},
   "outputs": [],
   "source": [
    "library(tidyverse)\n",
    "source(\"tests.r\")"
   ]
  },
  {
   "cell_type": "markdown",
   "id": "4020e21a-9f39-4ff7-ae99-e4bdcc10a656",
   "metadata": {
    "tags": []
   },
   "source": [
    "# Assessment Example Notebook\n",
    "\n",
    "This is just an example notebook of several tools.\n",
    "\n",
    "## Richer Feedback\n",
    "\n",
    "Suppose we are asking student a question like the following.\n",
    "\n",
    "> **Question**: consider the following code.  What type of a variable is `my_var`?  Type your answer in the ... below; keep the \"\"!"
   ]
  },
  {
   "cell_type": "code",
   "execution_count": null,
   "id": "8e573a0d-7484-4996-b3cc-c4e48ec93ab9",
   "metadata": {},
   "outputs": [],
   "source": [
    "## Code Example\n",
    "\n",
    "my_var <- 1 + 2\n",
    "my_var <- my_var + 3\n",
    "\n",
    "my_var <- as.character(my_var)\n",
    "\n",
    "answer1 <- \"...\"\n",
    "\n",
    "test_1()"
   ]
  },
  {
   "cell_type": "code",
   "execution_count": null,
   "id": "49de6dab-9de5-4a91-97db-f647ef5c1334",
   "metadata": {},
   "outputs": [],
   "source": [
    "answer1 <- \"...\"\n",
    "\n",
    "#test_2_fails\n",
    "test_2()"
   ]
  },
  {
   "cell_type": "markdown",
   "id": "7984449f-be2c-4e45-9625-ae88bc5eb967",
   "metadata": {
    "tags": []
   },
   "source": [
    "## H5P Content\n",
    "\n",
    "* https://h5p.open.ubc.ca/\n",
    "\n",
    "```<iframe src=\"https://h5p.open.ubc.ca/wp-admin/admin-ajax.php?action=h5p_embed&id=415\" width=\"958\" height=\"386\" frameborder=\"0\" allowfullscreen=\"allowfullscreen\" title=\"CBEL: Writing Quiz\"></iframe><script src=\"https://h5p.open.ubc.ca/wp-content/plugins/h5p/h5p-php-library/js/h5p-resizer.js\" charset=\"UTF-8\"></script>```\n",
    "\n",
    "Need to embed indirectly using other tools:"
   ]
  },
  {
   "cell_type": "code",
   "execution_count": 37,
   "id": "41574680-0f1b-4bc4-944a-38d6430f55b0",
   "metadata": {
    "jupyter": {
     "source_hidden": true
    },
    "tags": []
   },
   "outputs": [
    {
     "data": {
      "text/html": [
       "<iframe src=\"https://h5p.open.ubc.ca/wp-admin/admin-ajax.php?action=h5p_embed&id=415\" width=\"958\" height=\"386\" frameborder=\"0\" allowfullscreen=\"allowfullscreen\" title=\"CBEL: Writing Quiz\"></iframe><script src=\"https://h5p.open.ubc.ca/wp-content/plugins/h5p/h5p-php-library/js/h5p-resizer.js\" charset=\"UTF-8\"></script>"
      ]
     },
     "metadata": {},
     "output_type": "display_data"
    }
   ],
   "source": [
    "IRdisplay::display_html('<iframe src=\"https://h5p.open.ubc.ca/wp-admin/admin-ajax.php?action=h5p_embed&id=415\" width=\"958\" height=\"386\" frameborder=\"0\" allowfullscreen=\"allowfullscreen\" title=\"CBEL: Writing Quiz\"></iframe><script src=\"https://h5p.open.ubc.ca/wp-content/plugins/h5p/h5p-php-library/js/h5p-resizer.js\" charset=\"UTF-8\"></script>') "
   ]
  }
 ],
 "metadata": {
  "kernelspec": {
   "display_name": "R",
   "language": "R",
   "name": "ir"
  },
  "language_info": {
   "codemirror_mode": "r",
   "file_extension": ".r",
   "mimetype": "text/x-r-source",
   "name": "R",
   "pygments_lexer": "r",
   "version": "4.1.2"
  }
 },
 "nbformat": 4,
 "nbformat_minor": 5
}
