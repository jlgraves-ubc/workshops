{
 "cells": [
  {
   "cell_type": "markdown",
   "id": "f55b770a",
   "metadata": {
    "slideshow": {
     "slide_type": "slide"
    }
   },
   "source": [
    "# JupyterLab Demonstration Notebook\n",
    "\n",
    "This notebook is a demonstration notebook for Jupyter and JupyterLab.  After completing this notebook, you will be able to:\n",
    "\n",
    "* Describe the structure of a Jupyter notebook and role of different kinds of cells\n",
    "* Understand the relationship between a notebook, the editor, the kernel, and output\n",
    "* Use the interface to access key information about your JupyterHub and the notebook\n",
    "* Understand the directory structure of a JupyterHub and its relation to your notebook\n",
    "* Run cells in a notebook to compute code or render text\n",
    "* Describe best practices for writing and running notebooks, including common pitfalls\n",
    "* Author Markdown cells with a variety of formats and content types, including $\\mathbb{math}$ and `code`\n",
    "* Embed and run arbitrary HTML code from other sources in a Notebook\n",
    "* Understand how to edit and tag cell attributes, in particular for RISE presentations\n",
    "* Save and export Jupyter notebooks in a variety of formats\n",
    "\n",
    "## Author\n",
    "\n",
    "* Jonathan Graves (jonathan.graves@ubc.ca)"
   ]
  },
  {
   "cell_type": "markdown",
   "id": "e5d2058b",
   "metadata": {
    "slideshow": {
     "slide_type": "slide"
    }
   },
   "source": [
    "# Part 1: Introduction to Jupyter"
   ]
  },
  {
   "cell_type": "markdown",
   "id": "55dcedea",
   "metadata": {
    "jp-MarkdownHeadingCollapsed": true,
    "slideshow": {
     "slide_type": "slide"
    },
    "tags": []
   },
   "source": [
    "## What is Jupyter?\n",
    "\n",
    "* Jupyter is an connected system of open-source tools designed to support **interactive, web-based** computing (<https://jupyter.org/>) \n",
    "\n",
    "* They use the **literate computing paradigm**, in which code, output, and narrative is combined into a single document\n",
    "\n",
    "* They are particularly oriented towards cloud-based computing and programming – which makes them excellent for teaching and learning"
   ]
  },
  {
   "cell_type": "markdown",
   "id": "b0faaf29",
   "metadata": {
    "slideshow": {
     "slide_type": "subslide"
    },
    "tags": []
   },
   "source": [
    "## Advantages and Disadvantages\n",
    "\n",
    "| Advantage      | Disadvantage |\n",
    "| :---        |    :----:   |  \n",
    "| + Free and Open Source      | - No central authority       | \n",
    "| + Easy for end users   | - Non-traditional use paradigm        | \n",
    "| + Interactive | - Not \"point and click\" |\n",
    "| + Modern and well-supported | - Limited debugging support |\n",
    "| + Accessible... | ... until it's not |\n",
    "| + Hardware independent | - Intimidating local set-up |"
   ]
  },
  {
   "cell_type": "markdown",
   "id": "bc7467d8",
   "metadata": {
    "slideshow": {
     "slide_type": "slide"
    },
    "tags": []
   },
   "source": [
    "## Key Tools in the Jupyter System\n",
    "\n",
    "* **JupyterLab** – an interactive, feature-rich notebook authoring tool, with many plug-ins and extensions\n",
    "* **JupyterNotebook** – a simpler interactive notebook tool, ideal for visualization and beginners\n",
    "* **JupyterHub** – a backend tool which runs and organizes Jupyter notebooks "
   ]
  },
  {
   "cell_type": "markdown",
   "id": "bec57f6e",
   "metadata": {
    "slideshow": {
     "slide_type": "fragment"
    },
    "tags": []
   },
   "source": [
    "Less important:\n",
    "\n",
    "* **RISE** – an interactive slideshow tool\n",
    "* **JupyterBook** – a textbook/documentation authoring tool"
   ]
  },
  {
   "cell_type": "markdown",
   "id": "5d4e71e3",
   "metadata": {
    "slideshow": {
     "slide_type": "slide"
    },
    "tags": []
   },
   "source": [
    "<img src=\"jupyter1.PNG\" width=\"1600\" />"
   ]
  },
  {
   "cell_type": "markdown",
   "id": "65ab45c1",
   "metadata": {
    "slideshow": {
     "slide_type": "subslide"
    },
    "tags": []
   },
   "source": [
    "<img src=\"jupyter2.PNG\" width=\"1600\" />"
   ]
  },
  {
   "cell_type": "markdown",
   "id": "a3534181-d1ad-4ecd-bbe9-e090a398615a",
   "metadata": {
    "slideshow": {
     "slide_type": "slide"
    },
    "tags": []
   },
   "source": [
    "# Using Jupyter via the Hub\n",
    "\n",

    "<https://tinyurl.com/tlefdemo>\n"
   ]
  },
  {
   "cell_type": "markdown",
   "id": "f9ce7e7a",
   "metadata": {
    "slideshow": {
     "slide_type": "slide"
    },
    "tags": []
   },
   "source": [
    "# Let's See it in Action\n",
    "\n",
    "That probably seems very abstract, so let's see it in action:"
   ]
  },
  {
   "cell_type": "code",
   "execution_count": null,
   "id": "c610ba2c",
   "metadata": {},
   "outputs": [],
   "source": [
    "1 + 1 "
   ]
  },
  {
   "cell_type": "markdown",
   "id": "9eed1b7c",
   "metadata": {},
   "source": [
    "Look at the output for the code above.  Doesn't it look great?  That was a *code cell*.\n",
    "\n",
    "These other cells are Markdown cells, which are rich text.  They can include things like:\n",
    "\n",
    "* Lists\n",
    "* $x + 1$\n",
    "* <www.jupyter.org>\n",
    "\n",
    "You can also use other kinds of embeds and HTML easily in these notebooks."
   ]
  },
  {
   "cell_type": "markdown",
   "id": "0b925f75",
   "metadata": {},
   "source": [
    "## Orientation to JupyterLab\n",
    "\n",
    "Before we go further, let's explore the following parts of the Jupyter environment.  Can you find:\n",
    "\n",
    "1. The directory browser?\n",
    "2. The terminal and kernel window?\n",
    "3. The kernel status (2 places!)?\n",
    "4. The cell properties window?\n",
    "4. The editor status?\n",
    "5. The save and load functions?\n",
    "6. The setting options?\n",
    "\n",
    "Also, find the hotbar and identify what each of the tools do."
   ]
  },
  {
   "cell_type": "markdown",
   "id": "5cbe14f0",
   "metadata": {},
   "source": [
    "# Part 2: Coding in Jupyter Notebooks"
   ]
  },
  {
   "cell_type": "markdown",
   "id": "7fbb5b93",
   "metadata": {},
   "source": [
    "## Directories\n",
    "\n",
    "The next step is to learn how we create and use Jupyter notebooks.  The first thing we should recognize is that our notebooks always live in a **directory** on our JupyterHub.\n",
    "* This directory can contain other files which can be accessed by Jupyter, such as:\n",
    "  + Images\n",
    "  + Other `code` files (like tests)\n",
    "  + Data files\n",
    "  + etc.\n",
    "\n",
    "By default, Jupyter will look in the notebook's directory for files, unless specified otherwise."
   ]
  },
  {
   "cell_type": "code",
   "execution_count": null,
   "id": "37341149",
   "metadata": {},
   "outputs": [],
   "source": [
    "#load in the demo_file into R and use the function\n",
    "\n",
    "source(\"demo_file.r\") #this is the R command to include a file\n",
    "\n",
    "hello_world()"
   ]
  },
  {
   "cell_type": "markdown",
   "id": "375bd19e",
   "metadata": {},
   "source": [
    "## Code Cells\n",
    "\n",
    "Code cells are both straightforward and not straightforward.  They contain `code` which can be executed on the associated kernel.  When they are run, they will return the response from the kernel.\n",
    "\n",
    "* Basically, a notebook breaks up a traditional script into discrete cells, which can be run individually\n",
    "* Function and packages can be included as associated with the kernel being used"
   ]
  },
  {
   "cell_type": "code",
   "execution_count": null,
   "id": "0c6725b0",
   "metadata": {},
   "outputs": [],
   "source": [
    "x <- c(1,2,3,4) #a list of numbers\n",
    "\n",
    "mean(x) #the mean function from R"
   ]
  },
  {
   "cell_type": "markdown",
   "id": "01c7bd4a",
   "metadata": {},
   "source": [
    "## Key Pitfall: Running Order\n",
    "\n",
    "The most important principle to remember for Jupyter is that cells can be run individually but _the underlying memory space is the same_\n",
    "\n",
    "* This means that the order in which cells are _run_ matters, not the order they are in your notebook (hence the numbering)\n",
    "* Ths means that we should **always write and run Notebooks from start to end**\n",
    "\n",
    "Let's see an example of how this create be unexpected results."
   ]
  },
  {
   "cell_type": "code",
   "execution_count": null,
   "id": "3d995480",
   "metadata": {},
   "outputs": [],
   "source": [
    "data <- c(1,2,3,4,5) #create \"data\" as 1 to 5\n",
    "\n",
    "print(data)"
   ]
  },
  {
   "cell_type": "code",
   "execution_count": null,
   "id": "4710a6a5",
   "metadata": {},
   "outputs": [],
   "source": [
    "idx = 1 #index to delete\n",
    "\n",
    "data <- data[-idx] #delete the index"
   ]
  },
  {
   "cell_type": "code",
   "execution_count": null,
   "id": "0ce03109",
   "metadata": {},
   "outputs": [],
   "source": [
    "print(data)  #now go back and change idx to 2"
   ]
  },
  {
   "cell_type": "markdown",
   "id": "d9b7fa60",
   "metadata": {},
   "source": [
    "## Loaded Files and Running Order\n",
    "\n",
    "This also extend to files which are loaded into a notebook, such as functions or data\n",
    "\n",
    "* For instance, data will _not_ be updated without being reloaded\n",
    "* A function will not be updated until the file it contains is reloaded"
   ]
  },
  {
   "cell_type": "code",
   "execution_count": null,
   "id": "49a2cdcd",
   "metadata": {},
   "outputs": [],
   "source": [
    "hello_world()"
   ]
  },
  {
   "cell_type": "markdown",
   "id": "3d549a79",
   "metadata": {},
   "source": [
    "Open `demo_file.r` and change the text being printed. "
   ]
  },
  {
   "cell_type": "code",
   "execution_count": null,
   "id": "4658a1b9",
   "metadata": {},
   "outputs": [],
   "source": [
    "hello_world()"
   ]
  },
  {
   "cell_type": "code",
   "execution_count": null,
   "id": "024c90df",
   "metadata": {},
   "outputs": [],
   "source": [
    "source(\"demo_file.r\")\n",
    "\n",
    "hello_world()"
   ]
  },
  {
   "cell_type": "markdown",
   "id": "d5661343",
   "metadata": {},
   "source": [
    "## Special: Self-Tests\n",
    "\n",
    "You can use this feature to creative interactive self tests.  The way this works is that we ask a question which can be answered with a computational object.\n",
    "\n",
    "* We then perform a cryptographic **hash** of the object, and compare with a pre-computed hash\n",
    "* If they match, the answer is correct!\n",
    "\n",
    "This can be used to do \"check-in\" tests, or proof performance in multi-part questions easily."
   ]
  },
  {
   "cell_type": "markdown",
   "id": "a025d368",
   "metadata": {},
   "source": [
    "### Example\n",
    "\n",
    "> **Question 1**:  What is the capital of France?\n",
    "\n",
    "> **Question 2**: What year was Canada created?"
   ]
  },
  {
   "cell_type": "code",
   "execution_count": null,
   "id": "5978dbdc",
   "metadata": {},
   "outputs": [],
   "source": [
    "answer1 <- \"answer\" #replace with answer in quotes\n",
    "\n",
    "test_1()"
   ]
  },
  {
   "cell_type": "code",
   "execution_count": null,
   "id": "78ab454f",
   "metadata": {},
   "outputs": [],
   "source": [
    "answer2 <- 2022 #replace with answer\n",
    "\n",
    "test_2()"
   ]
  },
  {
   "cell_type": "code",
   "execution_count": null,
   "id": "966e5a89",
   "metadata": {},
   "outputs": [],
   "source": [
    "digest(\"Paris\")\n",
    "\n",
    "digest(1867)"
   ]
  },
  {
   "cell_type": "markdown",
   "id": "2db8ffb0",
   "metadata": {},
   "source": [
    "## Important Pitfalls\n",
    "\n",
    "* Text and numerical answers must be _exact_ meaning that:\n",
    "  + You should always round numerical answers to a few decimals places, due to floating point imprecision\n",
    "  + You should _never_ test objects that contain arbitrary human-created text, options, or ordering\n",
    "  + You should always test the simplest and most precise object possible\n",
    "* You have to make sure you pre-compute the digest each time; do this last"
   ]
  },
  {
   "cell_type": "code",
   "execution_count": null,
   "id": "2131c0cc",
   "metadata": {},
   "outputs": [],
   "source": [
    "# Example\n",
    "\n",
    "data1 <- data.frame(x = c(1,2,3,4,5), y = c(2,5,6,1,2), z = c(2,3,1,4,1))\n",
    "data2 <- data.frame(X = c(1,2,3,4,5), Y = c(2,5,6,1,2), Z = c(2,3,1,4,1))\n",
    "data3 <- data.frame(x = c(1,2,3,4,5), y = c(2,5,6,1,2), z = c(2,3,1,4,1))\n",
    "#these are the same except for capitalization or variable names\n",
    "\n",
    "reg1 <- lm(y ~ x + z, data = data1)\n",
    "reg2 <- lm(Y ~ X + Z, data = data2)\n",
    "reg3 <- lm(y ~ x + z, data = data3)\n",
    "reg4 <- lm(y ~ z + x, data = data1)\n",
    "# all identical models\n",
    "\n",
    "digest(reg1)\n",
    "digest(reg2)\n",
    "digest(reg3)\n",
    "digest(reg4)\n",
    "# all different results"
   ]
  },
  {
   "cell_type": "markdown",
   "id": "75712989",
   "metadata": {},
   "source": [
    "# Part 3: Writing Text in Jupyter Notebooks\n",
    "\n",
    "## Markdown \n",
    "\n",
    "Jupyter notebooks use a simple text language called **Markdown** to produce formatting and a LaTeX-like system called **MathJax** to write math: <https://www.markdownguide.org/basic-syntax/>\n",
    "\n",
    "* Markdown is very widely used and very easy to learn\n",
    "* However, it doesn't have a tone of options, so keeping it simple is key\n",
    "\n",
    "What options it _does_ have are surprisingly robust.  I'm not going to spend too much time on it, just highlight a few things."
   ]
  },
  {
   "cell_type": "markdown",
   "id": "79b12d80",
   "metadata": {},
   "source": [
    "## Math in Jupyter\n",
    "\n",
    "Jupyter renders mathematical notation using MathJax using `$` or `$$`.  It uses the same syntax as the math mode in LaTeX, with a few caveats:\n",
    "\n",
    "* It doesn't support environments that would declare math mode (e.g. ``equation``) \n",
    "* It doesn't support packages outside of the the basic math tools\n",
    "* It doesn't support referencing in a simple way\n",
    "\n",
    "Bottom line: keep it simple when using mathematical expressions.\n"
   ]
  },
  {
   "cell_type": "markdown",
   "id": "a02fb407",
   "metadata": {},
   "source": [
    "$$\\bar{x} = \\frac{1}{n}\\sum_{i=1}^n x_i$$\n",
    "\n",
    "This is some more math but now in inline style $\\sigma^2 =  1$."
   ]
  },
  {
   "cell_type": "markdown",
   "id": "4cec2949",
   "metadata": {},
   "source": [
    "## Code Excerpts\n",
    "\n",
    "You can use backticks `` ` `` to embed incline typewriter code.  Code blocks are triple ticks:  `` ``` `` \n",
    "\n",
    "```\n",
    "Multiple lines\n",
    "\n",
    "function\n",
    "\n",
    "Lookit all this code\n",
    "```\n",
    "\n",
    "Notice that it is difficult to do syntax highlighting, so don't count on it\n"
   ]
  },
  {
   "cell_type": "markdown",
   "id": "91463e1e",
   "metadata": {},
   "source": [
    "## HTML Embeds\n",
    "\n",
    "Markdown supports arbitrary HTML embedding but **does not** render certain types directly (mainly for security).\n",
    "\n",
    "* `<font color=\"red\">`: <font color=\"red\">this works</font>\n",
    "* `<iframe>`: <iframe width=\"560\" height=\"315\" src=\"https://www.youtube.com/embed/uv5DloVT3iU\" title=\"YouTube video player\"></iframe>\n",
    "\n",
    "However, you can get around this using some R or Python tools."
   ]
  },
  {
   "cell_type": "markdown",
   "id": "4be9ccc6",
   "metadata": {},
   "source": [
    "## More Complex HTML Embeds\n",
    "\n",
    "The key is to embed via a code block, which parses and renders the HTML appropriately.\n",
    "\n",
    "* This is not ideal, but is the safest and most robust way to do this\n",
    "* This uses the `display_html` function from the `IRkernel`\n",
    "* Note that scripts and dynamic resizing will not work well\n",
    "\n",
    "This can be improved by hiding the code cells."
   ]
  },
  {
   "cell_type": "code",
   "execution_count": null,
   "id": "883d436e",
   "metadata": {},
   "outputs": [],
   "source": [
    "IRdisplay::display_html('<iframe width=\"560\" height=\"315\" src=\"https://www.youtube.com/embed/uv5DloVT3iU\" title=\"YouTube video player\" frameborder=\"0\" allow=\"accelerometer; autoplay; clipboard-write; encrypted-media; gyroscope; picture-in-picture\" allowfullscreen></iframe>')"
   ]
  },
  {
   "cell_type": "code",
   "execution_count": null,
   "id": "7d38614f",
   "metadata": {},
   "outputs": [],
   "source": [
    "IRdisplay::display_html('<iframe src=\"https://h5p.open.ubc.ca/wp-admin/admin-ajax.php?action=h5p_embed&id=163\" width=\"770\" height=\"370\" frameborder=\"0\" allowfullscreen=\"allowfullscreen\" title=\"Test Economics Question\"></iframe><script src=\"https://h5p.open.ubc.ca/wp-content/plugins/h5p/h5p-php-library/js/h5p-resizer.js\" charset=\"UTF-8\"></script>')"
   ]
  },
  {
   "cell_type": "markdown",
   "id": "7ae97bac",
   "metadata": {
    "tags": [
     "hard"
    ]
   },
   "source": [
    "## Tagging Cells\n",
    "\n",
    "You can give cells special properties (called **tags**) which are mainly useful for integration with other tools and navigation\n",
    "\n",
    "* For example, it's how you organize a RISE slideshow: cells are slides, subslides, or \"fragments\" (animations)\n",
    "* It can also determine integrations for tools like `nbgrader` \n",
    "\n",
    "This is accessed via lab in the _cell properties_ window in the sidebar"
   ]
  },
  {
   "cell_type": "markdown",
   "id": "6f969abc",
   "metadata": {},
   "source": [
    "## Exporting\n",
    "\n",
    "Jupyter can export notebooks in a variety of formats.  The most robust way is as an `.html` file.\n",
    "\n",
    "* The reason for this is because notebooks are natively rendered in HTML, and so this will always work\n",
    "  + There is also the advantage of now being embeddable in other content easily (e.g. a Canvas page)\n",
    "* Other formats require rendering (e.g. LaTeX, Sphinx) which can fail or create unexpected errors\n",
    "\n",
    "We recommend for most purposes to simply save as HTML, but PDF rendering is also usually OK."
   ]
  }
 ],
 "metadata": {
  "kernelspec": {
   "display_name": "R",
   "language": "R",
   "name": "ir"
  },
  "language_info": {
   "codemirror_mode": "r",
   "file_extension": ".r",
   "mimetype": "text/x-r-source",
   "name": "R",
   "pygments_lexer": "r",
   "version": "4.1.3"
  }
 },
 "nbformat": 4,
 "nbformat_minor": 5
}
